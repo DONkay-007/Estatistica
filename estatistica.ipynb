{
 "cells": [
  {
   "cell_type": "code",
   "execution_count": 1,
   "id": "80f8a769",
   "metadata": {},
   "outputs": [],
   "source": [
    "import pandas as pd"
   ]
  },
  {
   "cell_type": "code",
   "execution_count": 2,
   "id": "09cc49e1",
   "metadata": {},
   "outputs": [
    {
     "data": {
      "text/plain": [
       "'2.2.3'"
      ]
     },
     "execution_count": 2,
     "metadata": {},
     "output_type": "execute_result"
    }
   ],
   "source": [
    "pd.__version__"
   ]
  },
  {
   "cell_type": "markdown",
   "id": "d0e90d44",
   "metadata": {},
   "source": [
    "### Analisando dados"
   ]
  },
  {
   "cell_type": "code",
   "execution_count": 3,
   "id": "5634809a",
   "metadata": {},
   "outputs": [],
   "source": [
    "dict_metrics = {\n",
    "    \"idade\": [15, 18,25,26, 40, 40, 58, 60],\n",
    "    \"altura\": [160, 165,149, 168, 172, 174,174,178],}"
   ]
  },
  {
   "cell_type": "code",
   "execution_count": 4,
   "id": "cc3b4316",
   "metadata": {},
   "outputs": [
    {
     "data": {
      "text/plain": [
       "dict"
      ]
     },
     "execution_count": 4,
     "metadata": {},
     "output_type": "execute_result"
    }
   ],
   "source": [
    "type(dict_metrics)"
   ]
  },
  {
   "cell_type": "code",
   "execution_count": 5,
   "id": "d007fbe9",
   "metadata": {},
   "outputs": [],
   "source": [
    "df = pd.DataFrame(dict_metrics)"
   ]
  },
  {
   "cell_type": "code",
   "execution_count": 6,
   "id": "b0e128b0",
   "metadata": {},
   "outputs": [
    {
     "data": {
      "text/plain": [
       "pandas.core.frame.DataFrame"
      ]
     },
     "execution_count": 6,
     "metadata": {},
     "output_type": "execute_result"
    }
   ],
   "source": [
    "type(df)"
   ]
  },
  {
   "cell_type": "code",
   "execution_count": 7,
   "id": "8a0fcba7",
   "metadata": {},
   "outputs": [
    {
     "data": {
      "application/vnd.microsoft.datawrangler.viewer.v0+json": {
       "columns": [
        {
         "name": "index",
         "rawType": "int64",
         "type": "integer"
        },
        {
         "name": "idade",
         "rawType": "int64",
         "type": "integer"
        },
        {
         "name": "altura",
         "rawType": "int64",
         "type": "integer"
        }
       ],
       "ref": "76895d92-590a-4c20-bc77-1aa17fd68772",
       "rows": [
        [
         "0",
         "15",
         "160"
        ],
        [
         "1",
         "18",
         "165"
        ],
        [
         "2",
         "25",
         "149"
        ],
        [
         "3",
         "26",
         "168"
        ],
        [
         "4",
         "40",
         "172"
        ],
        [
         "5",
         "40",
         "174"
        ],
        [
         "6",
         "58",
         "174"
        ],
        [
         "7",
         "60",
         "178"
        ]
       ],
       "shape": {
        "columns": 2,
        "rows": 8
       }
      },
      "text/html": [
       "<div>\n",
       "<style scoped>\n",
       "    .dataframe tbody tr th:only-of-type {\n",
       "        vertical-align: middle;\n",
       "    }\n",
       "\n",
       "    .dataframe tbody tr th {\n",
       "        vertical-align: top;\n",
       "    }\n",
       "\n",
       "    .dataframe thead th {\n",
       "        text-align: right;\n",
       "    }\n",
       "</style>\n",
       "<table border=\"1\" class=\"dataframe\">\n",
       "  <thead>\n",
       "    <tr style=\"text-align: right;\">\n",
       "      <th></th>\n",
       "      <th>idade</th>\n",
       "      <th>altura</th>\n",
       "    </tr>\n",
       "  </thead>\n",
       "  <tbody>\n",
       "    <tr>\n",
       "      <th>0</th>\n",
       "      <td>15</td>\n",
       "      <td>160</td>\n",
       "    </tr>\n",
       "    <tr>\n",
       "      <th>1</th>\n",
       "      <td>18</td>\n",
       "      <td>165</td>\n",
       "    </tr>\n",
       "    <tr>\n",
       "      <th>2</th>\n",
       "      <td>25</td>\n",
       "      <td>149</td>\n",
       "    </tr>\n",
       "    <tr>\n",
       "      <th>3</th>\n",
       "      <td>26</td>\n",
       "      <td>168</td>\n",
       "    </tr>\n",
       "    <tr>\n",
       "      <th>4</th>\n",
       "      <td>40</td>\n",
       "      <td>172</td>\n",
       "    </tr>\n",
       "    <tr>\n",
       "      <th>5</th>\n",
       "      <td>40</td>\n",
       "      <td>174</td>\n",
       "    </tr>\n",
       "    <tr>\n",
       "      <th>6</th>\n",
       "      <td>58</td>\n",
       "      <td>174</td>\n",
       "    </tr>\n",
       "    <tr>\n",
       "      <th>7</th>\n",
       "      <td>60</td>\n",
       "      <td>178</td>\n",
       "    </tr>\n",
       "  </tbody>\n",
       "</table>\n",
       "</div>"
      ],
      "text/plain": [
       "   idade  altura\n",
       "0     15     160\n",
       "1     18     165\n",
       "2     25     149\n",
       "3     26     168\n",
       "4     40     172\n",
       "5     40     174\n",
       "6     58     174\n",
       "7     60     178"
      ]
     },
     "execution_count": 7,
     "metadata": {},
     "output_type": "execute_result"
    }
   ],
   "source": [
    "df"
   ]
  },
  {
   "cell_type": "markdown",
   "id": "3880b933",
   "metadata": {},
   "source": [
    "### Médidas de Posição\n",
    "- Média: soma de todos os valores dividido pela quantidade de valore,pode ser sensível a valores extremos\n",
    "- Mediana: É o valor do meio quando os dados estão ordenados, não sofre por valores extremos, utíl em istribuição assimétrica\n",
    "- Moda: Valor que ocorre com maior frequência "
   ]
  },
  {
   "cell_type": "code",
   "execution_count": 8,
   "id": "c8be38b1",
   "metadata": {},
   "outputs": [
    {
     "data": {
      "application/vnd.microsoft.datawrangler.viewer.v0+json": {
       "columns": [
        {
         "name": "index",
         "rawType": "int64",
         "type": "integer"
        },
        {
         "name": "idade",
         "rawType": "int64",
         "type": "integer"
        }
       ],
       "ref": "c8233e86-e15e-4370-a7ec-3ed51ee93993",
       "rows": [
        [
         "0",
         "15"
        ],
        [
         "1",
         "18"
        ],
        [
         "2",
         "25"
        ],
        [
         "3",
         "26"
        ],
        [
         "4",
         "40"
        ],
        [
         "5",
         "40"
        ],
        [
         "6",
         "58"
        ],
        [
         "7",
         "60"
        ]
       ],
       "shape": {
        "columns": 1,
        "rows": 8
       }
      },
      "text/plain": [
       "0    15\n",
       "1    18\n",
       "2    25\n",
       "3    26\n",
       "4    40\n",
       "5    40\n",
       "6    58\n",
       "7    60\n",
       "Name: idade, dtype: int64"
      ]
     },
     "execution_count": 8,
     "metadata": {},
     "output_type": "execute_result"
    }
   ],
   "source": [
    "df[\"idade\"]"
   ]
  },
  {
   "cell_type": "code",
   "execution_count": 9,
   "id": "d80d1bec",
   "metadata": {},
   "outputs": [
    {
     "data": {
      "application/vnd.microsoft.datawrangler.viewer.v0+json": {
       "columns": [
        {
         "name": "index",
         "rawType": "int64",
         "type": "integer"
        },
        {
         "name": "idade",
         "rawType": "int64",
         "type": "integer"
        }
       ],
       "ref": "94de29d6-6caf-4890-bb1b-a028b5b0a9b0",
       "rows": [
        [
         "0",
         "15"
        ],
        [
         "1",
         "18"
        ],
        [
         "2",
         "25"
        ],
        [
         "3",
         "26"
        ],
        [
         "4",
         "40"
        ],
        [
         "5",
         "40"
        ],
        [
         "6",
         "58"
        ],
        [
         "7",
         "60"
        ]
       ],
       "shape": {
        "columns": 1,
        "rows": 8
       }
      },
      "text/plain": [
       "0    15\n",
       "1    18\n",
       "2    25\n",
       "3    26\n",
       "4    40\n",
       "5    40\n",
       "6    58\n",
       "7    60\n",
       "Name: idade, dtype: int64"
      ]
     },
     "execution_count": 9,
     "metadata": {},
     "output_type": "execute_result"
    }
   ],
   "source": [
    "df.idade"
   ]
  },
  {
   "cell_type": "code",
   "execution_count": 10,
   "id": "392c9788",
   "metadata": {},
   "outputs": [
    {
     "name": "stdout",
     "output_type": "stream",
     "text": [
      "Média de idade :35.25\n",
      "Média de altura: 167.5\n"
     ]
    }
   ],
   "source": [
    "print(f\"Média de idade :{df[\"idade\"].mean()}\")\n",
    "print(f\"Média de altura: {df[\"altura\"].mean()}\")"
   ]
  },
  {
   "cell_type": "code",
   "execution_count": 11,
   "id": "13180de4",
   "metadata": {},
   "outputs": [
    {
     "name": "stdout",
     "output_type": "stream",
     "text": [
      "Mediana de idade :33.0\n",
      "Mediana de altura: 170.0\n"
     ]
    }
   ],
   "source": [
    "print(f\"Mediana de idade :{df[\"idade\"].median()}\")\n",
    "print(f\"Mediana de altura: {df[\"altura\"].median()}\")"
   ]
  },
  {
   "cell_type": "code",
   "execution_count": 12,
   "id": "d786965a",
   "metadata": {},
   "outputs": [
    {
     "name": "stdout",
     "output_type": "stream",
     "text": [
      "Moda de idade :0    40\n",
      "Name: idade, dtype: int64\n",
      "Moda de altura: 0    174\n",
      "Name: altura, dtype: int64\n"
     ]
    }
   ],
   "source": [
    "print(f\"Moda de idade :{df[\"idade\"].mode()}\")\n",
    "print(f\"Moda de altura: {df[\"altura\"].mode()}\")"
   ]
  },
  {
   "cell_type": "markdown",
   "id": "8d960d63",
   "metadata": {},
   "source": [
    "### Médidas de dispersão\n",
    "- Variância: É a média dos quadrados entre cada valor e a média. Informa quão distantes os valores estão da média \n",
    "- Desvio Padrão: É a raiz quadrada da variância Expressa a dispersão em termos da mesma unidade de dados\n",
    "- Coeficiente de variação:É o desvio padrão dividido pela média, expresso em porcentagem. Indica a variabilidade relativa dos dados em relação a média\n"
   ]
  },
  {
   "cell_type": "code",
   "execution_count": 13,
   "id": "c0f1cde1",
   "metadata": {},
   "outputs": [
    {
     "name": "stdout",
     "output_type": "stream",
     "text": [
      "Variancia de idade :296.2142857142857\n",
      "Variancia de altura: 88.57142857142857\n"
     ]
    }
   ],
   "source": [
    "print(f\"Variancia de idade :{df[\"idade\"].var()}\")\n",
    "print(f\"Variancia de altura: {df[\"altura\"].var()}\")"
   ]
  },
  {
   "cell_type": "code",
   "execution_count": 14,
   "id": "8eff1d4a",
   "metadata": {},
   "outputs": [
    {
     "name": "stdout",
     "output_type": "stream",
     "text": [
      "Desvio padrão de idade :17.210876959477854\n",
      "Desvio padrão de altura: 9.411239481143202\n"
     ]
    }
   ],
   "source": [
    "print(f\"Desvio padrão de idade :{df[\"idade\"].std()}\")\n",
    "print(f\"Desvio padrão de altura: {df[\"altura\"].std()}\")"
   ]
  },
  {
   "cell_type": "code",
   "execution_count": 15,
   "id": "70f0556d",
   "metadata": {},
   "outputs": [
    {
     "data": {
      "text/plain": [
       "np.float64(48.82518286376696)"
      ]
     },
     "execution_count": 15,
     "metadata": {},
     "output_type": "execute_result"
    }
   ],
   "source": [
    "# Coeficiente de variação - idade\n",
    "df[\"idade\"].std()/ df[\"idade\"].mean() * 100"
   ]
  },
  {
   "cell_type": "code",
   "execution_count": 16,
   "id": "1adb99da",
   "metadata": {},
   "outputs": [
    {
     "data": {
      "text/plain": [
       "np.float64(5.618650436503405)"
      ]
     },
     "execution_count": 16,
     "metadata": {},
     "output_type": "execute_result"
    }
   ],
   "source": [
    "# Coeficiente de variação - altura\n",
    "df[\"altura\"].std()/ df[\"altura\"].mean() * 100"
   ]
  },
  {
   "cell_type": "markdown",
   "id": "1522e16c",
   "metadata": {},
   "source": [
    "### Medidas de Forma (distribuição dos dados)\n",
    "- Assimetria: Indica o grau e direção da distorção da distribuição em relação à média. Se positivo, indica a cauda direita da distribuição mais longa, já o oposto a cauda esquerda mais longa(Quando for positivo valores maiores mais distantes, quando for negativo mais perto eles estão).\n",
    "- Curtose: mede o pico ou \"pontuação\" da distribuição. Uma Curtose alta indica uma idstribuição mais concentrada "
   ]
  },
  {
   "cell_type": "code",
   "execution_count": 17,
   "id": "cf8ab508",
   "metadata": {},
   "outputs": [
    {
     "data": {
      "application/vnd.microsoft.datawrangler.viewer.v0+json": {
       "columns": [
        {
         "name": "index",
         "rawType": "int64",
         "type": "integer"
        },
        {
         "name": "idade",
         "rawType": "int64",
         "type": "integer"
        },
        {
         "name": "altura",
         "rawType": "int64",
         "type": "integer"
        }
       ],
       "ref": "f8e14e1d-c165-42d3-9168-2a2d486158c3",
       "rows": [
        [
         "0",
         "15",
         "160"
        ],
        [
         "1",
         "18",
         "165"
        ],
        [
         "2",
         "25",
         "149"
        ],
        [
         "3",
         "26",
         "168"
        ],
        [
         "4",
         "40",
         "172"
        ],
        [
         "5",
         "40",
         "174"
        ],
        [
         "6",
         "58",
         "174"
        ],
        [
         "7",
         "60",
         "178"
        ]
       ],
       "shape": {
        "columns": 2,
        "rows": 8
       }
      },
      "text/html": [
       "<div>\n",
       "<style scoped>\n",
       "    .dataframe tbody tr th:only-of-type {\n",
       "        vertical-align: middle;\n",
       "    }\n",
       "\n",
       "    .dataframe tbody tr th {\n",
       "        vertical-align: top;\n",
       "    }\n",
       "\n",
       "    .dataframe thead th {\n",
       "        text-align: right;\n",
       "    }\n",
       "</style>\n",
       "<table border=\"1\" class=\"dataframe\">\n",
       "  <thead>\n",
       "    <tr style=\"text-align: right;\">\n",
       "      <th></th>\n",
       "      <th>idade</th>\n",
       "      <th>altura</th>\n",
       "    </tr>\n",
       "  </thead>\n",
       "  <tbody>\n",
       "    <tr>\n",
       "      <th>0</th>\n",
       "      <td>15</td>\n",
       "      <td>160</td>\n",
       "    </tr>\n",
       "    <tr>\n",
       "      <th>1</th>\n",
       "      <td>18</td>\n",
       "      <td>165</td>\n",
       "    </tr>\n",
       "    <tr>\n",
       "      <th>2</th>\n",
       "      <td>25</td>\n",
       "      <td>149</td>\n",
       "    </tr>\n",
       "    <tr>\n",
       "      <th>3</th>\n",
       "      <td>26</td>\n",
       "      <td>168</td>\n",
       "    </tr>\n",
       "    <tr>\n",
       "      <th>4</th>\n",
       "      <td>40</td>\n",
       "      <td>172</td>\n",
       "    </tr>\n",
       "    <tr>\n",
       "      <th>5</th>\n",
       "      <td>40</td>\n",
       "      <td>174</td>\n",
       "    </tr>\n",
       "    <tr>\n",
       "      <th>6</th>\n",
       "      <td>58</td>\n",
       "      <td>174</td>\n",
       "    </tr>\n",
       "    <tr>\n",
       "      <th>7</th>\n",
       "      <td>60</td>\n",
       "      <td>178</td>\n",
       "    </tr>\n",
       "  </tbody>\n",
       "</table>\n",
       "</div>"
      ],
      "text/plain": [
       "   idade  altura\n",
       "0     15     160\n",
       "1     18     165\n",
       "2     25     149\n",
       "3     26     168\n",
       "4     40     172\n",
       "5     40     174\n",
       "6     58     174\n",
       "7     60     178"
      ]
     },
     "execution_count": 17,
     "metadata": {},
     "output_type": "execute_result"
    }
   ],
   "source": [
    "df"
   ]
  },
  {
   "cell_type": "code",
   "execution_count": 18,
   "id": "cefccf58",
   "metadata": {},
   "outputs": [
    {
     "name": "stdout",
     "output_type": "stream",
     "text": [
      " Assimetria de idade :0.44254516049230713\n",
      " Assimetria de altura: -1.1359101638062434\n"
     ]
    }
   ],
   "source": [
    "print(f\" Assimetria de idade :{df[\"idade\"].skew()}\")\n",
    "#Assimetria de idade foi positiva( pois os valores estão mais espalhados) \n",
    "print(f\" Assimetria de altura: {df[\"altura\"].skew()}\")\n",
    "#Assimetria de altura foi negativa(pois os valores maiores estão mais próximos)"
   ]
  },
  {
   "cell_type": "code",
   "execution_count": 19,
   "id": "75168033",
   "metadata": {},
   "outputs": [
    {
     "name": "stdout",
     "output_type": "stream",
     "text": [
      " Curtose de idade :-1.3083027995345171\n",
      " Curtose de altura: 1.064502601456815\n"
     ]
    }
   ],
   "source": [
    "print(f\" Curtose de idade :{df[\"idade\"].kurtosis()}\")\n",
    "#Curtose de idade foi negativa(dados mais espalhados) \n",
    "print(f\" Curtose de altura: {df[\"altura\"].kurtosis()}\")\n",
    "#Curtose de altura foi positiva(dados mais concentrados na média)"
   ]
  },
  {
   "cell_type": "code",
   "execution_count": 20,
   "id": "0cd52b32",
   "metadata": {},
   "outputs": [
    {
     "data": {
      "application/vnd.microsoft.datawrangler.viewer.v0+json": {
       "columns": [
        {
         "name": "index",
         "rawType": "object",
         "type": "string"
        },
        {
         "name": "altura",
         "rawType": "float64",
         "type": "float"
        }
       ],
       "ref": "7c4121a7-4004-45a5-828c-82a8ba224e9e",
       "rows": [
        [
         "count",
         "8.0"
        ],
        [
         "mean",
         "167.5"
        ],
        [
         "std",
         "9.411239481143202"
        ],
        [
         "min",
         "149.0"
        ],
        [
         "25%",
         "163.75"
        ],
        [
         "50%",
         "170.0"
        ],
        [
         "75%",
         "174.0"
        ],
        [
         "max",
         "178.0"
        ]
       ],
       "shape": {
        "columns": 1,
        "rows": 8
       }
      },
      "text/plain": [
       "count      8.000000\n",
       "mean     167.500000\n",
       "std        9.411239\n",
       "min      149.000000\n",
       "25%      163.750000\n",
       "50%      170.000000\n",
       "75%      174.000000\n",
       "max      178.000000\n",
       "Name: altura, dtype: float64"
      ]
     },
     "execution_count": 20,
     "metadata": {},
     "output_type": "execute_result"
    }
   ],
   "source": [
    "df['altura'].describe()"
   ]
  },
  {
   "cell_type": "code",
   "execution_count": 21,
   "id": "b24f51cd",
   "metadata": {},
   "outputs": [
    {
     "data": {
      "application/vnd.microsoft.datawrangler.viewer.v0+json": {
       "columns": [
        {
         "name": "index",
         "rawType": "object",
         "type": "string"
        },
        {
         "name": "idade",
         "rawType": "float64",
         "type": "float"
        }
       ],
       "ref": "20f0295b-fe98-4d18-a480-4ddc49c49887",
       "rows": [
        [
         "count",
         "8.0"
        ],
        [
         "mean",
         "35.25"
        ],
        [
         "std",
         "17.210876959477854"
        ],
        [
         "min",
         "15.0"
        ],
        [
         "25%",
         "23.25"
        ],
        [
         "50%",
         "33.0"
        ],
        [
         "75%",
         "44.5"
        ],
        [
         "max",
         "60.0"
        ]
       ],
       "shape": {
        "columns": 1,
        "rows": 8
       }
      },
      "text/plain": [
       "count     8.000000\n",
       "mean     35.250000\n",
       "std      17.210877\n",
       "min      15.000000\n",
       "25%      23.250000\n",
       "50%      33.000000\n",
       "75%      44.500000\n",
       "max      60.000000\n",
       "Name: idade, dtype: float64"
      ]
     },
     "execution_count": 21,
     "metadata": {},
     "output_type": "execute_result"
    }
   ],
   "source": [
    "df['idade'].describe()"
   ]
  },
  {
   "cell_type": "markdown",
   "id": "dca4d50d",
   "metadata": {},
   "source": [
    "### Correlação\n",
    "- Mede a relação entre duas variaveis, se postiva(aumentam juntas) ou negativas (uma aumenta enquanto outra diminui) ou não há correlação.\n",
    "- Ajuda a selecionar características relevantes para os modelos, melhorando a precisão e a interpretabilidade"
   ]
  },
  {
   "cell_type": "markdown",
   "id": "16419c65",
   "metadata": {},
   "source": [
    "### Indices de Correlação\n",
    "- Coeficientes de Pearson: Mede a relação linear entre duas variaveis, variando de -1 a 1 e 0 para nehuma correlação\n",
    "- Coeficiente de Spearman: É útil quando os dados não tem uma relação linear clara ou quando as variáveis não são numericamente escalonáveis\n",
    "- Pearson para relação linear e variávei continuas e Spearman para relação libear, ordinais ou com outliers."
   ]
  },
  {
   "cell_type": "code",
   "execution_count": 22,
   "id": "d933dbce",
   "metadata": {},
   "outputs": [
    {
     "data": {
      "application/vnd.microsoft.datawrangler.viewer.v0+json": {
       "columns": [
        {
         "name": "index",
         "rawType": "object",
         "type": "string"
        },
        {
         "name": "idade",
         "rawType": "float64",
         "type": "float"
        },
        {
         "name": "altura",
         "rawType": "float64",
         "type": "float"
        }
       ],
       "ref": "0788aab5-fb95-46a8-9bfe-c2cd367359b8",
       "rows": [
        [
         "idade",
         "1.0",
         "0.7408519382898463"
        ],
        [
         "altura",
         "0.7408519382898463",
         "1.0"
        ]
       ],
       "shape": {
        "columns": 2,
        "rows": 2
       }
      },
      "text/html": [
       "<div>\n",
       "<style scoped>\n",
       "    .dataframe tbody tr th:only-of-type {\n",
       "        vertical-align: middle;\n",
       "    }\n",
       "\n",
       "    .dataframe tbody tr th {\n",
       "        vertical-align: top;\n",
       "    }\n",
       "\n",
       "    .dataframe thead th {\n",
       "        text-align: right;\n",
       "    }\n",
       "</style>\n",
       "<table border=\"1\" class=\"dataframe\">\n",
       "  <thead>\n",
       "    <tr style=\"text-align: right;\">\n",
       "      <th></th>\n",
       "      <th>idade</th>\n",
       "      <th>altura</th>\n",
       "    </tr>\n",
       "  </thead>\n",
       "  <tbody>\n",
       "    <tr>\n",
       "      <th>idade</th>\n",
       "      <td>1.000000</td>\n",
       "      <td>0.740852</td>\n",
       "    </tr>\n",
       "    <tr>\n",
       "      <th>altura</th>\n",
       "      <td>0.740852</td>\n",
       "      <td>1.000000</td>\n",
       "    </tr>\n",
       "  </tbody>\n",
       "</table>\n",
       "</div>"
      ],
      "text/plain": [
       "           idade    altura\n",
       "idade   1.000000  0.740852\n",
       "altura  0.740852  1.000000"
      ]
     },
     "execution_count": 22,
     "metadata": {},
     "output_type": "execute_result"
    }
   ],
   "source": [
    "df.corr(method='pearson')"
   ]
  },
  {
   "cell_type": "code",
   "execution_count": 23,
   "id": "2c15c73b",
   "metadata": {},
   "outputs": [
    {
     "data": {
      "application/vnd.microsoft.datawrangler.viewer.v0+json": {
       "columns": [
        {
         "name": "index",
         "rawType": "object",
         "type": "string"
        },
        {
         "name": "idade",
         "rawType": "float64",
         "type": "float"
        },
        {
         "name": "altura",
         "rawType": "float64",
         "type": "float"
        }
       ],
       "ref": "eed9f7a8-05b9-4022-bdc5-87fda2a650b8",
       "rows": [
        [
         "idade",
         "1.0",
         "0.9096385542168675"
        ],
        [
         "altura",
         "0.9096385542168675",
         "1.0"
        ]
       ],
       "shape": {
        "columns": 2,
        "rows": 2
       }
      },
      "text/html": [
       "<div>\n",
       "<style scoped>\n",
       "    .dataframe tbody tr th:only-of-type {\n",
       "        vertical-align: middle;\n",
       "    }\n",
       "\n",
       "    .dataframe tbody tr th {\n",
       "        vertical-align: top;\n",
       "    }\n",
       "\n",
       "    .dataframe thead th {\n",
       "        text-align: right;\n",
       "    }\n",
       "</style>\n",
       "<table border=\"1\" class=\"dataframe\">\n",
       "  <thead>\n",
       "    <tr style=\"text-align: right;\">\n",
       "      <th></th>\n",
       "      <th>idade</th>\n",
       "      <th>altura</th>\n",
       "    </tr>\n",
       "  </thead>\n",
       "  <tbody>\n",
       "    <tr>\n",
       "      <th>idade</th>\n",
       "      <td>1.000000</td>\n",
       "      <td>0.909639</td>\n",
       "    </tr>\n",
       "    <tr>\n",
       "      <th>altura</th>\n",
       "      <td>0.909639</td>\n",
       "      <td>1.000000</td>\n",
       "    </tr>\n",
       "  </tbody>\n",
       "</table>\n",
       "</div>"
      ],
      "text/plain": [
       "           idade    altura\n",
       "idade   1.000000  0.909639\n",
       "altura  0.909639  1.000000"
      ]
     },
     "execution_count": 23,
     "metadata": {},
     "output_type": "execute_result"
    }
   ],
   "source": [
    "df.corr(method='spearman')"
   ]
  },
  {
   "cell_type": "code",
   "execution_count": 24,
   "id": "302734ed",
   "metadata": {},
   "outputs": [
    {
     "data": {
      "text/plain": [
       "np.float64(0.7408519382898473)"
      ]
     },
     "execution_count": 24,
     "metadata": {},
     "output_type": "execute_result"
    }
   ],
   "source": [
    "df['idade'].corr(df['altura'], method='pearson')"
   ]
  },
  {
   "cell_type": "code",
   "execution_count": 25,
   "id": "85509247",
   "metadata": {},
   "outputs": [
    {
     "data": {
      "text/plain": [
       "np.float64(0.9096385542168675)"
      ]
     },
     "execution_count": 25,
     "metadata": {},
     "output_type": "execute_result"
    }
   ],
   "source": [
    "df['idade'].corr(df['altura'], method='spearman')"
   ]
  },
  {
   "cell_type": "markdown",
   "id": "b06dbed7",
   "metadata": {},
   "source": [
    "### Histograma"
   ]
  },
  {
   "cell_type": "code",
   "execution_count": 26,
   "id": "0d2372ad",
   "metadata": {},
   "outputs": [
    {
     "data": {
      "text/plain": [
       "<Axes: >"
      ]
     },
     "execution_count": 26,
     "metadata": {},
     "output_type": "execute_result"
    },
    {
     "data": {
      "image/png": "[encoded data removed]",
      "text/plain": [
       "<Figure size 640x480 with 1 Axes>"
      ]
     },
     "metadata": {},
     "output_type": "display_data"
    }
   ],
   "source": [
    "df[\"idade\"].hist()"
   ]
  },
  {
   "cell_type": "code",
   "execution_count": 27,
   "id": "ddf709f3",
   "metadata": {},
   "outputs": [
    {
     "data": {
      "text/plain": [
       "<Axes: >"
      ]
     },
     "execution_count": 27,
     "metadata": {},
     "output_type": "execute_result"
    },
    {
     "data": {
      "image/png": "[encoded data removed]",
      "text/plain": [
       "<Figure size 640x480 with 1 Axes>"
      ]
     },
     "metadata": {},
     "output_type": "display_data"
    }
   ],
   "source": [
    "df[\"altura\"].hist()"
   ]
  },
  {
   "cell_type": "markdown",
   "id": "e88a0435",
   "metadata": {},
   "source": [
    "### Box Plot"
   ]
  },
  {
   "cell_type": "code",
   "execution_count": 28,
   "id": "b1542ea6",
   "metadata": {},
   "outputs": [
    {
     "data": {
      "text/plain": [
       "<Axes: >"
      ]
     },
     "execution_count": 28,
     "metadata": {},
     "output_type": "execute_result"
    },
    {
     "data": {
      "image/png": "[encoded data removed]",
      "text/plain": [
       "<Figure size 640x480 with 1 Axes>"
      ]
     },
     "metadata": {},
     "output_type": "display_data"
    }
   ],
   "source": [
    "df[\"idade\"].plot.box()"
   ]
  },
  {
   "cell_type": "code",
   "execution_count": 29,
   "id": "91a2a37d",
   "metadata": {},
   "outputs": [
    {
     "data": {
      "text/plain": [
       "<Axes: >"
      ]
     },
     "execution_count": 29,
     "metadata": {},
     "output_type": "execute_result"
    },
    {
     "data": {
      "image/png": "[encoded data removed]",
      "text/plain": [
       "<Figure size 640x480 with 1 Axes>"
      ]
     },
     "metadata": {},
     "output_type": "display_data"
    }
   ],
   "source": [
    "df['altura'].plot.box()"
   ]
  },
  {
   "cell_type": "markdown",
   "id": "1617adfe",
   "metadata": {},
   "source": [
    "### Scatter Plot(Gráfico de dispersão)"
   ]
  },
  {
   "cell_type": "code",
   "execution_count": 30,
   "id": "05e08886",
   "metadata": {},
   "outputs": [
    {
     "data": {
      "text/plain": [
       "<Axes: xlabel='idade', ylabel='altura'>"
      ]
     },
     "execution_count": 30,
     "metadata": {},
     "output_type": "execute_result"
    },
    {
     "data": {
      "image/png": "[encoded data removed]",
      "text/plain": [
       "<Figure size 640x480 with 1 Axes>"
      ]
     },
     "metadata": {},
     "output_type": "display_data"
    }
   ],
   "source": [
    "df.plot.scatter(x='idade', y='altura')"
   ]
  },
  {
   "cell_type": "markdown",
   "id": "c34ef3cf",
   "metadata": {},
   "source": [
    "### Gráfico de barras"
   ]
  },
  {
   "cell_type": "code",
   "execution_count": 31,
   "id": "552a37ea",
   "metadata": {},
   "outputs": [],
   "source": [
    "dic_vendas = { \"categoria\": [\"Eletrodomesticos\",\"games\",\"livros\",\"casa\"],\n",
    "                \"valor\":[20000,5000,1000,200000],\n",
    "                \"quantidade\":[200,500,300,1500] \n",
    "}"
   ]
  },
  {
   "cell_type": "code",
   "execution_count": 32,
   "id": "46497664",
   "metadata": {},
   "outputs": [
    {
     "data": {
      "application/vnd.microsoft.datawrangler.viewer.v0+json": {
       "columns": [
        {
         "name": "index",
         "rawType": "int64",
         "type": "integer"
        },
        {
         "name": "categoria",
         "rawType": "object",
         "type": "string"
        },
        {
         "name": "valor",
         "rawType": "int64",
         "type": "integer"
        },
        {
         "name": "quantidade",
         "rawType": "int64",
         "type": "integer"
        }
       ],
       "ref": "e96e017d-6fdb-47b7-8029-42fe32fd59f3",
       "rows": [
        [
         "0",
         "Eletrodomesticos",
         "20000",
         "200"
        ],
        [
         "1",
         "games",
         "5000",
         "500"
        ],
        [
         "2",
         "livros",
         "1000",
         "300"
        ],
        [
         "3",
         "casa",
         "200000",
         "1500"
        ]
       ],
       "shape": {
        "columns": 3,
        "rows": 4
       }
      },
      "text/html": [
       "<div>\n",
       "<style scoped>\n",
       "    .dataframe tbody tr th:only-of-type {\n",
       "        vertical-align: middle;\n",
       "    }\n",
       "\n",
       "    .dataframe tbody tr th {\n",
       "        vertical-align: top;\n",
       "    }\n",
       "\n",
       "    .dataframe thead th {\n",
       "        text-align: right;\n",
       "    }\n",
       "</style>\n",
       "<table border=\"1\" class=\"dataframe\">\n",
       "  <thead>\n",
       "    <tr style=\"text-align: right;\">\n",
       "      <th></th>\n",
       "      <th>categoria</th>\n",
       "      <th>valor</th>\n",
       "      <th>quantidade</th>\n",
       "    </tr>\n",
       "  </thead>\n",
       "  <tbody>\n",
       "    <tr>\n",
       "      <th>0</th>\n",
       "      <td>Eletrodomesticos</td>\n",
       "      <td>20000</td>\n",
       "      <td>200</td>\n",
       "    </tr>\n",
       "    <tr>\n",
       "      <th>1</th>\n",
       "      <td>games</td>\n",
       "      <td>5000</td>\n",
       "      <td>500</td>\n",
       "    </tr>\n",
       "    <tr>\n",
       "      <th>2</th>\n",
       "      <td>livros</td>\n",
       "      <td>1000</td>\n",
       "      <td>300</td>\n",
       "    </tr>\n",
       "    <tr>\n",
       "      <th>3</th>\n",
       "      <td>casa</td>\n",
       "      <td>200000</td>\n",
       "      <td>1500</td>\n",
       "    </tr>\n",
       "  </tbody>\n",
       "</table>\n",
       "</div>"
      ],
      "text/plain": [
       "          categoria   valor  quantidade\n",
       "0  Eletrodomesticos   20000         200\n",
       "1             games    5000         500\n",
       "2            livros    1000         300\n",
       "3              casa  200000        1500"
      ]
     },
     "execution_count": 32,
     "metadata": {},
     "output_type": "execute_result"
    }
   ],
   "source": [
    "df_vendas = pd.DataFrame(dic_vendas)\n",
    "df_vendas"
   ]
  },
  {
   "cell_type": "code",
   "execution_count": 33,
   "id": "44b2f68a",
   "metadata": {},
   "outputs": [
    {
     "data": {
      "application/vnd.microsoft.datawrangler.viewer.v0+json": {
       "columns": [
        {
         "name": "index",
         "rawType": "object",
         "type": "string"
        },
        {
         "name": "0",
         "rawType": "object",
         "type": "unknown"
        }
       ],
       "ref": "d2dec361-f879-458e-ab24-170a6afdc8e8",
       "rows": [
        [
         "categoria",
         "object"
        ],
        [
         "valor",
         "int64"
        ],
        [
         "quantidade",
         "int64"
        ]
       ],
       "shape": {
        "columns": 1,
        "rows": 3
       }
      },
      "text/plain": [
       "categoria     object\n",
       "valor          int64\n",
       "quantidade     int64\n",
       "dtype: object"
      ]
     },
     "execution_count": 33,
     "metadata": {},
     "output_type": "execute_result"
    }
   ],
   "source": [
    "df_vendas.dtypes"
   ]
  },
  {
   "cell_type": "code",
   "execution_count": 34,
   "id": "4f1684b1",
   "metadata": {},
   "outputs": [
    {
     "data": {
      "text/plain": [
       "<Axes: xlabel='categoria'>"
      ]
     },
     "execution_count": 34,
     "metadata": {},
     "output_type": "execute_result"
    },
    {
     "data": {
      "image/png": "[encoded data removed]",
      "text/plain": [
       "<Figure size 640x480 with 1 Axes>"
      ]
     },
     "metadata": {},
     "output_type": "display_data"
    }
   ],
   "source": [
    "df_vendas.plot.bar(x='categoria', y='quantidade')"
   ]
  },
  {
   "cell_type": "code",
   "execution_count": 35,
   "id": "4ad49c01",
   "metadata": {},
   "outputs": [
    {
     "data": {
      "text/plain": [
       "<Axes: xlabel='categoria'>"
      ]
     },
     "execution_count": 35,
     "metadata": {},
     "output_type": "execute_result"
    },
    {
     "data": {
      "image/png": "[encoded data removed]",
      "text/plain": [
       "<Figure size 640x480 with 1 Axes>"
      ]
     },
     "metadata": {},
     "output_type": "display_data"
    }
   ],
   "source": [
    "df_vendas.sort_values(by='valor', ascending=True).plot.bar(x='categoria', y='valor')\n"
   ]
  },
  {
   "cell_type": "code",
   "execution_count": 36,
   "id": "0fe3dd7d",
   "metadata": {},
   "outputs": [
    {
     "data": {
      "text/plain": [
       "<Axes: xlabel='categoria'>"
      ]
     },
     "execution_count": 36,
     "metadata": {},
     "output_type": "execute_result"
    },
    {
     "data": {
      "image/png": "[encoded data removed]",
      "text/plain": [
       "<Figure size 640x480 with 1 Axes>"
      ]
     },
     "metadata": {},
     "output_type": "display_data"
    }
   ],
   "source": [
    "df_vendas.sort_values(\"quantidade\", ascending=False).plot.bar(x='categoria', y='quantidade')"
   ]
  },
  {
   "cell_type": "code",
   "execution_count": 37,
   "id": "d1ee29e9",
   "metadata": {},
   "outputs": [
    {
     "data": {
      "text/plain": [
       "<Axes: ylabel='categoria'>"
      ]
     },
     "execution_count": 37,
     "metadata": {},
     "output_type": "execute_result"
    },
    {
     "data": {
      "image/png": "[encoded data removed]",
      "text/plain": [
       "<Figure size 640x480 with 1 Axes>"
      ]
     },
     "metadata": {},
     "output_type": "display_data"
    }
   ],
   "source": [
    "df_vendas.sort_values(\"quantidade\", ascending=False).plot.barh(x='categoria', y='quantidade')"
   ]
  },
  {
   "cell_type": "markdown",
   "id": "e3ff7290",
   "metadata": {},
   "source": [
    "### Gráfico de linha"
   ]
  },
  {
   "cell_type": "code",
   "execution_count": 38,
   "id": "e052f466",
   "metadata": {},
   "outputs": [],
   "source": [
    "dic_faturamento = {\"data\":[\"2020-01-01\",\"2021-01-01\",\"2022-01-01\",\"2023-01-01\",\"2024-01-01\"],\n",
    "                    \"valor\":[\"100000\",\"200000\",\"150000\",\"300000\",\"350000\"]}"
   ]
  },
  {
   "cell_type": "code",
   "execution_count": 39,
   "id": "41b69bc6",
   "metadata": {},
   "outputs": [
    {
     "data": {
      "application/vnd.microsoft.datawrangler.viewer.v0+json": {
       "columns": [
        {
         "name": "index",
         "rawType": "int64",
         "type": "integer"
        },
        {
         "name": "data",
         "rawType": "object",
         "type": "string"
        },
        {
         "name": "valor",
         "rawType": "object",
         "type": "string"
        }
       ],
       "ref": "38079df4-8dd7-403b-9574-c6e28e9393f6",
       "rows": [
        [
         "0",
         "2020-01-01",
         "100000"
        ],
        [
         "1",
         "2021-01-01",
         "200000"
        ],
        [
         "2",
         "2022-01-01",
         "150000"
        ],
        [
         "3",
         "2023-01-01",
         "300000"
        ],
        [
         "4",
         "2024-01-01",
         "350000"
        ]
       ],
       "shape": {
        "columns": 2,
        "rows": 5
       }
      },
      "text/html": [
       "<div>\n",
       "<style scoped>\n",
       "    .dataframe tbody tr th:only-of-type {\n",
       "        vertical-align: middle;\n",
       "    }\n",
       "\n",
       "    .dataframe tbody tr th {\n",
       "        vertical-align: top;\n",
       "    }\n",
       "\n",
       "    .dataframe thead th {\n",
       "        text-align: right;\n",
       "    }\n",
       "</style>\n",
       "<table border=\"1\" class=\"dataframe\">\n",
       "  <thead>\n",
       "    <tr style=\"text-align: right;\">\n",
       "      <th></th>\n",
       "      <th>data</th>\n",
       "      <th>valor</th>\n",
       "    </tr>\n",
       "  </thead>\n",
       "  <tbody>\n",
       "    <tr>\n",
       "      <th>0</th>\n",
       "      <td>2020-01-01</td>\n",
       "      <td>100000</td>\n",
       "    </tr>\n",
       "    <tr>\n",
       "      <th>1</th>\n",
       "      <td>2021-01-01</td>\n",
       "      <td>200000</td>\n",
       "    </tr>\n",
       "    <tr>\n",
       "      <th>2</th>\n",
       "      <td>2022-01-01</td>\n",
       "      <td>150000</td>\n",
       "    </tr>\n",
       "    <tr>\n",
       "      <th>3</th>\n",
       "      <td>2023-01-01</td>\n",
       "      <td>300000</td>\n",
       "    </tr>\n",
       "    <tr>\n",
       "      <th>4</th>\n",
       "      <td>2024-01-01</td>\n",
       "      <td>350000</td>\n",
       "    </tr>\n",
       "  </tbody>\n",
       "</table>\n",
       "</div>"
      ],
      "text/plain": [
       "         data   valor\n",
       "0  2020-01-01  100000\n",
       "1  2021-01-01  200000\n",
       "2  2022-01-01  150000\n",
       "3  2023-01-01  300000\n",
       "4  2024-01-01  350000"
      ]
     },
     "execution_count": 39,
     "metadata": {},
     "output_type": "execute_result"
    }
   ],
   "source": [
    "df_faturamento = pd.DataFrame(dic_faturamento)\n",
    "df_faturamento"
   ]
  },
  {
   "cell_type": "code",
   "execution_count": 40,
   "id": "2d4e4e44",
   "metadata": {},
   "outputs": [
    {
     "name": "stdout",
     "output_type": "stream",
     "text": [
      "<class 'pandas.core.frame.DataFrame'>\n",
      "RangeIndex: 5 entries, 0 to 4\n",
      "Data columns (total 2 columns):\n",
      " #   Column  Non-Null Count  Dtype \n",
      "---  ------  --------------  ----- \n",
      " 0   data    5 non-null      object\n",
      " 1   valor   5 non-null      object\n",
      "dtypes: object(2)\n",
      "memory usage: 212.0+ bytes\n"
     ]
    }
   ],
   "source": [
    "df_faturamento.info()"
   ]
  },
  {
   "cell_type": "code",
   "execution_count": 41,
   "id": "7537f2e7",
   "metadata": {},
   "outputs": [
    {
     "data": {
      "application/vnd.microsoft.datawrangler.viewer.v0+json": {
       "columns": [
        {
         "name": "index",
         "rawType": "object",
         "type": "string"
        },
        {
         "name": "0",
         "rawType": "object",
         "type": "unknown"
        }
       ],
       "ref": "b17f66b0-91f2-4041-bf8d-f5c977d02fbf",
       "rows": [
        [
         "data",
         "object"
        ],
        [
         "valor",
         "object"
        ]
       ],
       "shape": {
        "columns": 1,
        "rows": 2
       }
      },
      "text/plain": [
       "data     object\n",
       "valor    object\n",
       "dtype: object"
      ]
     },
     "execution_count": 41,
     "metadata": {},
     "output_type": "execute_result"
    }
   ],
   "source": [
    "df_faturamento.dtypes"
   ]
  },
  {
   "cell_type": "code",
   "execution_count": 42,
   "id": "116c2737",
   "metadata": {},
   "outputs": [],
   "source": [
    "df_faturamento[\"data\"] = pd.to_datetime(df_faturamento[\"data\"])\n"
   ]
  },
  {
   "cell_type": "code",
   "execution_count": 43,
   "id": "16b0e585",
   "metadata": {},
   "outputs": [
    {
     "data": {
      "application/vnd.microsoft.datawrangler.viewer.v0+json": {
       "columns": [
        {
         "name": "index",
         "rawType": "object",
         "type": "string"
        },
        {
         "name": "0",
         "rawType": "object",
         "type": "unknown"
        }
       ],
       "ref": "29cd3d54-927b-4694-a164-1ef41624113d",
       "rows": [
        [
         "data",
         "datetime64[ns]"
        ],
        [
         "valor",
         "object"
        ]
       ],
       "shape": {
        "columns": 1,
        "rows": 2
       }
      },
      "text/plain": [
       "data     datetime64[ns]\n",
       "valor            object\n",
       "dtype: object"
      ]
     },
     "execution_count": 43,
     "metadata": {},
     "output_type": "execute_result"
    }
   ],
   "source": [
    "df_faturamento.dtypes"
   ]
  },
  {
   "cell_type": "code",
   "execution_count": 44,
   "id": "9b6a2a93",
   "metadata": {},
   "outputs": [],
   "source": [
    "df_faturamento[\"valor\"] =  pd.to_numeric(df_faturamento[\"valor\"])"
   ]
  },
  {
   "cell_type": "code",
   "execution_count": 45,
   "id": "02946422",
   "metadata": {},
   "outputs": [
    {
     "data": {
      "application/vnd.microsoft.datawrangler.viewer.v0+json": {
       "columns": [
        {
         "name": "index",
         "rawType": "object",
         "type": "string"
        },
        {
         "name": "0",
         "rawType": "object",
         "type": "unknown"
        }
       ],
       "ref": "b39641c8-7be8-4fb9-a927-ffeec8fa2a66",
       "rows": [
        [
         "data",
         "datetime64[ns]"
        ],
        [
         "valor",
         "int64"
        ]
       ],
       "shape": {
        "columns": 1,
        "rows": 2
       }
      },
      "text/plain": [
       "data     datetime64[ns]\n",
       "valor             int64\n",
       "dtype: object"
      ]
     },
     "execution_count": 45,
     "metadata": {},
     "output_type": "execute_result"
    }
   ],
   "source": [
    "df_faturamento.dtypes"
   ]
  },
  {
   "cell_type": "code",
   "execution_count": 46,
   "id": "8f2b880c",
   "metadata": {},
   "outputs": [
    {
     "data": {
      "text/plain": [
       "<Axes: xlabel='data'>"
      ]
     },
     "execution_count": 46,
     "metadata": {},
     "output_type": "execute_result"
    },
    {
     "data": {
      "image/png": "[encoded data removed]",
      "text/plain": [
       "<Figure size 640x480 with 1 Axes>"
      ]
     },
     "metadata": {},
     "output_type": "display_data"
    }
   ],
   "source": [
    "df_faturamento.plot.line(x=\"data\", y=\"valor\")"
   ]
  }
 ],
 "metadata": {
  "kernelspec": {
   "display_name": "Python 3",
   "language": "python",
   "name": "python3"
  },
  "language_info": {
   "codemirror_mode": {
    "name": "ipython",
    "version": 3
   },
   "file_extension": ".py",
   "mimetype": "text/x-python",
   "name": "python",
   "nbconvert_exporter": "python",
   "pygments_lexer": "ipython3",
   "version": "3.13.2"
  }
 },
 "nbformat": 4,
 "nbformat_minor": 5
}
